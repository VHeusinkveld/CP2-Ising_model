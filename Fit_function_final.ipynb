{
 "cells": [
  {
   "cell_type": "markdown",
   "metadata": {},
   "source": [
    "# Fitting function"
   ]
  },
  {
   "cell_type": "markdown",
   "metadata": {},
   "source": [
    "## Needed sub functions:"
   ]
  },
  {
   "cell_type": "code",
   "execution_count": 1,
   "metadata": {},
   "outputs": [],
   "source": [
    "def crit_temp(data_dir):\n",
    "    '''Gives the transition/critical temperature from the measured specific\n",
    "    heat in terms of k_B*T/J.\n",
    "    \n",
    "    Parameters\n",
    "    ----------\n",
    "    data_dir : datafile ~.npz\n",
    "        contains the 'temperature' 'magnetic_field' 'c_v' 'chi' arrays\n",
    "    \n",
    "    Returns\n",
    "    -------\n",
    "    T_c: float\n",
    "        the critical temperature    \n",
    "    '''\n",
    "    \n",
    "    data = np.load(data_dir)\n",
    "    T = data['temperature'].reshape(np.shape(data['temperature'])[0])\n",
    "    c_v = data['c_v'][:,0]\n",
    "    T_c = T[c_v==max(c_v)]\n",
    "    \n",
    "    return T_c"
   ]
  },
  {
   "cell_type": "code",
   "execution_count": 2,
   "metadata": {},
   "outputs": [],
   "source": [
    "def load_data(data_dir, quantity):\n",
    "    '''Loads all data from data_dir and assigns data of specific quantity to variables\n",
    "    \n",
    "    Parameters\n",
    "    ----------\n",
    "    data_dir : datafile ~.npz\n",
    "        contains the 'temperature' 'magnetic_field' 'c_v' 'chi' 'magnetisation' arrays\n",
    "    quantity : str\n",
    "        quantity of interest\n",
    "    \n",
    "    Returns\n",
    "    -------\n",
    "    xdata : 1D array\n",
    "        temperatures from data_dir\n",
    "    ydata : 1D array\n",
    "        quantity from data_dir\n",
    "    y_err : 1D array\n",
    "        standard deviation of ydata entries        \n",
    "    '''\n",
    "    \n",
    "    data = np.load(data_dir)\n",
    "    xdata = data['temperature'].reshape(np.shape(data['temperature'])[0])\n",
    "    ydata = data[quantity][:,0]\n",
    "    y_err = data[quantity][:,1]\n",
    "    \n",
    "    return xdata, ydata, y_err"
   ]
  },
  {
   "cell_type": "code",
   "execution_count": 3,
   "metadata": {},
   "outputs": [],
   "source": [
    "def plot_function(data_dir, quantity, LOG):\n",
    "    '''Gives plot of the function in loglog or normal scale. X-axis is\n",
    "    translated with critical temperature T_c when the loglog plot is selected.\n",
    "    \n",
    "    Parameters\n",
    "    ----------\n",
    "    data_dir : datafile ~.npz\n",
    "        contains the 'temperature' 'magnetic_field' 'c_v' 'chi' arrays\n",
    "    quantity : Str\n",
    "        string which specifies which physical quantity must be fitted\n",
    "    LOG : boolean\n",
    "        Turns loglog plot on or off\n",
    "        \n",
    "    Returns\n",
    "    -------\n",
    "    plot of data provided\n",
    "    '''\n",
    "    \n",
    "    xdata, ydata, y_err = load_data(data_dir, quantity)\n",
    "    \n",
    "    T_c = crit_temp(data_dir)\n",
    "    \n",
    "    #if quantity == 'magnetisation':\n",
    "    \n",
    "    if LOG:\n",
    "        plt.loglog(xdata[(xdata-T_c)>0]-T_c, ydata[(xdata-T_c)>0], 'bx')\n",
    "        plt.loglog(abs(xdata[(xdata-T_c)<0]-T_c), ydata[(xdata-T_c)<0], 'rx')\n",
    "        plt.grid()\n",
    "    else:\n",
    "        plt.plot(xdata[(xdata-T_c)>0]-T_c, ydata[(xdata-T_c)>0], 'bx')\n",
    "        plt.plot(xdata[(xdata-T_c)<0]-T_c, ydata[(xdata-T_c)<0], 'rx')\n",
    "        \n",
    "    plt.tight_layout()\n",
    "    plt.show()\n",
    "        "
   ]
  },
  {
   "cell_type": "markdown",
   "metadata": {},
   "source": [
    "## Actual fit function:"
   ]
  },
  {
   "cell_type": "code",
   "execution_count": 8,
   "metadata": {},
   "outputs": [],
   "source": [
    "def fit_function(data_dir, quantity, fit_range, plotYN):\n",
    "    '''Gives the best fit to quantity with non-linear least squares\n",
    "    \n",
    "    Parameters\n",
    "    ----------\n",
    "    data_dir : datafile ~.npz\n",
    "        contains the 'temperature' 'magnetic_field' 'c_v' 'chi' arrays\n",
    "    quantity : Str\n",
    "        string which specifies which physical quantity must be fitted\n",
    "    fit_range: sequence\n",
    "        [LB, UB], the lower and upper boundary of the interval to be\n",
    "        fitted w.r.t T_c\n",
    "    plotYN : boolean\n",
    "        turns plotting of fit and original function on or off\n",
    "              \n",
    "    Returns\n",
    "    -------\n",
    "    popt: array\n",
    "        Optimal values for parameters so sum of the squared residuals is minimized\n",
    "    fit_err: sequence\n",
    "        Standard deviation of the optimal values for the parameters\n",
    "    '''\n",
    "    \n",
    "    # Initialisation of plot design and parameters\n",
    "    plt.rc('text', usetex=True)\n",
    "    plt.rc('font', family='serif')\n",
    "    plt.rc('font', size=18)\n",
    "    plt.xlabel('$\\mathrm{k_B T/J}$')\n",
    "    \n",
    "       \n",
    "    # Loading data and general functions (and generate transition temperature (T_c))\n",
    "    from scipy.optimize import curve_fit\n",
    "    \n",
    "    data = np.load(data_dir)\n",
    "    xdata = data['temperature'].reshape(np.shape(data['temperature'])[0])\n",
    "    ydata = data[quantity][:,0]\n",
    "    y_err = data[quantity][:,1]\n",
    "    \n",
    "    T_c = crit_temp(data_dir)\n",
    "    \n",
    "    # Fitting\n",
    "    ## Selecting data for fit\n",
    "    indices = np.where(((xdata-T_c)>fit_range[0]) & ((xdata-T_c)<fit_range[1]))\n",
    "    xdata_fit = xdata[indices] - T_c\n",
    "    ydata_fit = ydata[indices]\n",
    "    y_err_fit = y_err[indices]\n",
    "\n",
    "    ## Select fitting model\n",
    "    if quantity == 'magnetisation':\n",
    "        from Model_equations_fitting import f_magnetisation as f\n",
    "        plt.ylabel('m', fontsize=18)\n",
    "    if quantity == 'c_v':\n",
    "        from Model_equations_fitting import f_cv as f\n",
    "        plt.ylabel('$\\mathrm{C_v}$', fontsize=18)\n",
    "    if quantity == 'chi':\n",
    "        from Model_equations_fitting import f_chi as f\n",
    "        plt.ylabel('$\\mathrm{\\chi}$', fontsize=18)\n",
    "    \n",
    "    ## Actual fitting\n",
    "    popt, pcov = curve_fit(f, abs(xdata_fit), ydata_fit, sigma=y_err_fit)\n",
    "    fit_err = np.sqrt(np.diag(pcov))\n",
    "\n",
    "    # Generate fit plot data\n",
    "    xdata_fit_plot = np.linspace(xdata_fit[0], xdata_fit[-1], 1000)\n",
    "    ydata_fit_plot = f(abs(xdata_fit_plot), *popt)\n",
    "        \n",
    "    # Plotting original function and fit\n",
    "    if plotYN:\n",
    "                \n",
    "        # Actual plotting\n",
    "        plt.loglog(xdata[(xdata-T_c)>0]-T_c, ydata[(xdata-T_c)>0], 'bx', markersize=7)\n",
    "        plt.loglog(abs(xdata[(xdata-T_c)<0]-T_c), ydata[(xdata-T_c)<0], 'rx', markersize=7)\n",
    "        plt.loglog(abs(xdata_fit_plot),ydata_fit_plot, 'k-', alpha = 0.9, label = 'Fit +')\n",
    "        #plt.loglog(abs(xdata_fit_plot),f(abs(xdata_fit_plot), *(popt+fit_err)), 'k-', alpha = 0.7)\n",
    "        #plt.loglog(abs(xdata_fit_plot),f(abs(xdata_fit_plot), *(popt-fit_err)), 'k-', alpha = 0.7)\n",
    "        plt.grid()\n",
    "        #plt.tight_layout()\n",
    "        #plt.show()\n",
    "   \n",
    "    return popt, fit_err, xdata_fit_plot, ydata_fit_plot"
   ]
  },
  {
   "cell_type": "markdown",
   "metadata": {},
   "source": [
    "## Determine fit range visually:"
   ]
  },
  {
   "cell_type": "code",
   "execution_count": 6,
   "metadata": {},
   "outputs": [
    {
     "data": {
      "image/png": "[encoded data removed]",
      "text/plain": [
       "<matplotlib.figure.Figure at 0x7fb18b40abe0>"
      ]
     },
     "metadata": {},
     "output_type": "display_data"
    }
   ],
   "source": [
    "import numpy as np\n",
    "import matplotlib.pyplot as plt\n",
    "#%matplotlib notebook\n",
    "\n",
    "plot_function('./exported_data/saved_data_L40_SW_2000.npz', 'chi', True)"
   ]
  },
  {
   "cell_type": "markdown",
   "metadata": {},
   "source": [
    "## Determine best fit & plot it:"
   ]
  },
  {
   "cell_type": "code",
   "execution_count": 10,
   "metadata": {},
   "outputs": [
    {
     "data": {
      "image/png": "[encoded data removed]",
      "text/plain": [
       "<matplotlib.figure.Figure at 0x7fb1853c5c50>"
      ]
     },
     "metadata": {},
     "output_type": "display_data"
    }
   ],
   "source": [
    "import numpy as np\n",
    "import matplotlib.pyplot as plt\n",
    "#%matplotlib notebook\n",
    "\n",
    "boundaries_neg = np.array([-0.46, -0.074])\n",
    "popt_neg, fit_err_neg, xdata_fit_neg, ydata_fit_neg = fit_function('./exported_data/saved_data_L40_SW_5000.npz', 'chi', boundaries_neg, False)\n",
    "\n",
    "boundaries_pos = np.array([0.124, 0.576])\n",
    "popt_pos, fit_err_pos, xdata_fit_plot_pos, ydata_fit_plot_pos = fit_function('./exported_data/saved_data_L40_SW_5000.npz', 'chi', boundaries_pos, True)\n",
    "\n",
    "plt.loglog(abs(xdata_fit_neg),ydata_fit_neg, 'k--', alpha = 0.9 ,label = 'Fit -')\n",
    "plt.legend()\n",
    "plt.tight_layout()\n",
    "plt.show()\n",
    "\n",
    "#plt.savefig('./exported_figs/L40_SW_5000' + '_chi_fitted.png')"
   ]
  },
  {
   "cell_type": "code",
   "execution_count": 11,
   "metadata": {
    "scrolled": false
   },
   "outputs": [
    {
     "name": "stdout",
     "output_type": "stream",
     "text": [
      "[ 0.91317453 -1.37069533]\n",
      "[ 0.02450026  0.02081675]\n"
     ]
    }
   ],
   "source": [
    "print(popt_pos)\n",
    "print(fit_err_pos)"
   ]
  },
  {
   "cell_type": "code",
   "execution_count": 12,
   "metadata": {},
   "outputs": [
    {
     "name": "stdout",
     "output_type": "stream",
     "text": [
      "[ 0.02484569 -2.27266982]\n",
      "[ 0.00086469  0.02759973]\n"
     ]
    }
   ],
   "source": [
    "print(popt_neg)\n",
    "print(fit_err_neg)"
   ]
  },
  {
   "cell_type": "code",
   "execution_count": 2,
   "metadata": {},
   "outputs": [
    {
     "data": {
      "image/png": "[encoded data removed]",
      "text/plain": [
       "<matplotlib.figure.Figure at 0x7f2110361940>"
      ]
     },
     "metadata": {},
     "output_type": "display_data"
    }
   ],
   "source": [
    "import numpy as np\n",
    "import matplotlib.pyplot as plt\n",
    "\n",
    "x_test = np.linspace(0.01, 1, 1000)\n",
    "y_test1 = x_test**-0.5\n",
    "y_test2 = abs(np.log(x_test))\n",
    "\n",
    "plt.loglog(x_test,y_test1,'r--')\n",
    "plt.loglog(x_test,y_test2,'b--')\n",
    "plt.show()"
   ]
  },
  {
   "cell_type": "code",
   "execution_count": null,
   "metadata": {},
   "outputs": [],
   "source": []
  }
 ],
 "metadata": {
  "kernelspec": {
   "display_name": "Python 3",
   "language": "python",
   "name": "python3"
  },
  "language_info": {
   "codemirror_mode": {
    "name": "ipython",
    "version": 3
   },
   "file_extension": ".py",
   "mimetype": "text/x-python",
   "name": "python",
   "nbconvert_exporter": "python",
   "pygments_lexer": "ipython3",
   "version": "3.6.2"
  }
 },
 "nbformat": 4,
 "nbformat_minor": 2
}
