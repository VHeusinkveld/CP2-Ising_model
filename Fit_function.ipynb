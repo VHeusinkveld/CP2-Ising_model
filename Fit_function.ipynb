{
 "cells": [
  {
   "cell_type": "code",
   "execution_count": null,
   "metadata": {},
   "outputs": [],
   "source": [
    "def fit_function(data_dir, quantity, fit_range, graph_extension, plotYN):\n",
    "    '''Gives the energy of one single spin site\n",
    "    \n",
    "    Parameters\n",
    "    ----------\n",
    "    data_dir : datafile ~.npz\n",
    "        contains the 'temperature' 'magnetic_field' 'c_v' 'chi' arrays\n",
    "    quantity : Str\n",
    "        string which specifies which physical quantity must be fitted\n",
    "    fit_range: float\n",
    "        range around critical temperature (T_c - fit_range, T_c + fit_range)\n",
    "        which should be evaluated for fit. In case of magnetisation this only\n",
    "        determines the lower boundary\n",
    "    graph_extension : float\n",
    "        defines extra domain to be plotted from xmin and xmax\n",
    "        Plot domain = (xmin - graph_extension, xmax + graph_extension)\n",
    "    plotYN : boolean\n",
    "        turns plotting of fit and original function on or off\n",
    "           \n",
    "    Returns\n",
    "    -------\n",
    "    popt: array\n",
    "        Optimal values for parameters so sum of the squared residuals is minimized\n",
    "    fit_err: sequence\n",
    "        Standard deviation of the optimal values for the parameters\n",
    "    '''\n",
    "    \n",
    "    # Initialisation of plot design\n",
    "    plt.rc('text', usetex=True)\n",
    "    plt.rc('font', family='serif')\n",
    "    plt.rc('font', size=16)\n",
    "    plt.xlabel('$\\mathrm{k_B T/J}$')\n",
    "    \n",
    "    # Loading data and general functions (and generate transition temperature (T_c))\n",
    "    from scipy.optimize import curve_fit\n",
    "    \n",
    "    data = np.load(data_dir)\n",
    "    xdata = data['temperature'].reshape(np.shape(data['temperature'])[0])\n",
    "    ydata = data[quantity][:,0]\n",
    "    y_err = data[quantity][:,1]\n",
    "    T_c = 1/(1/2*np.arcsinh(1)) # This is actually 1/(beta_c*J) but as k_B = J = 1 by choice, this is the same\n",
    "    \n",
    "    \n",
    "    # Processing data\n",
    "    if quantity == 'magnetisation':\n",
    "        indices = np.where((xdata>=fit_range) & (xdata<T_c))\n",
    "        from Tijdelijk import f_magnetisation as f\n",
    "        plt.ylabel('m')\n",
    "    if quantity == 'c_v':\n",
    "        indices = np.where((xdata>=T_c-fit_range) & (xdata<T_c+fit_range))\n",
    "        from Tijdelijk import f_cv as f\n",
    "        plt.ylabel('$\\mathrm{c_v}$')\n",
    "    if quantity == 'chi':\n",
    "        indices = np.where((xdata>=T_c-fit_range) & (xdata<T_c+fit_range))\n",
    "        from Tijdelijk import f_chi as f\n",
    "        plt.ylabel('$\\mathrm{\\chi}$')\n",
    "    \n",
    "    xdata_domain = xdata[indices]\n",
    "    ydata_domain = ydata[indices]\n",
    "    y_err_domain = y_err[indices]\n",
    "    \n",
    "    xmax = xdata_domain[0] + graph_extension\n",
    "    xmin = xdata_domain[np.shape(xdata_domain)[0]-1] - graph_extension\n",
    "    \n",
    "    # Determine fit\n",
    "    popt, pcov = curve_fit(f, xdata_domain - T_c, ydata_domain, sigma=y_err_domain)\n",
    "    fit_err = np.sqrt(np.diag(pcov))\n",
    "    \n",
    "    if plotYN == True:\n",
    "        # Plot original function + errorbars and the fit\n",
    "        plt.figure()\n",
    "        plt.plot(xdata_domain, f(xdata_domain - T_c, *popt), 'r-')\n",
    "        plt.errorbar(xdata, ydata, yerr=y_err, fmt='x', markersize=6, capsize=4)\n",
    "        plt.show()\n",
    "\n",
    "        plt.figure()\n",
    "        plt.loglog(xdata, ydata)\n",
    "    \n",
    "        ymin_plot, ymax_plot = plt.ylim()\n",
    "        xmin_plot, xmax_plot = plt.xlim()\n",
    "        plt.plot([T_c, T_c], [ymin_plot, ymax_plot], color='k', linestyle='-', linewidth=2)\n",
    "    \n",
    "    return popt, fit_err"
   ]
  },
  {
   "cell_type": "code",
   "execution_count": null,
   "metadata": {},
   "outputs": [],
   "source": [
    "import numpy as np\n",
    "import matplotlib.pyplot as plt\n",
    "\n",
    "#fit_range moet 2 zijn voor magnetisation\n",
    "popt, fit_err = fit_function('./exported_data/saved_data_L40_SW_2000.npz', 'magnetisation', 2, 0.2, True)\n",
    "print(popt, fit_err)\n",
    "print(fit_err.shape)"
   ]
  },
  {
   "cell_type": "markdown",
   "metadata": {},
   "source": [
    "## Test area for individual parts of code"
   ]
  },
  {
   "cell_type": "code",
   "execution_count": null,
   "metadata": {},
   "outputs": [],
   "source": [
    "data_dir = ('./exported_data/saved_data_L40_SW_2000.npz')\n",
    "data = np.load(data_dir)\n",
    "xdata = data['temperature'].reshape(np.shape(data['temperature'])[0])\n",
    "ydata = data['chi'][:,0]\n",
    "T_c = 1/(1/2*np.arcsinh(1))\n",
    "from Tijdelijk import f_chi as f"
   ]
  },
  {
   "cell_type": "code",
   "execution_count": null,
   "metadata": {},
   "outputs": [],
   "source": [
    "plt.plot(xdata,ydata,'b--')\n",
    "ymin_plot, ymax_plot = plt.ylim()\n",
    "xmin_plot, xmax_plot = plt.xlim()\n",
    "plt.plot([T_c, T_c], [ymin_plot, ymax_plot], color='r', linestyle='--')\n",
    "plt.show()"
   ]
  },
  {
   "cell_type": "code",
   "execution_count": null,
   "metadata": {},
   "outputs": [],
   "source": [
    "plt.loglog(xdata,ydata,'b--')\n",
    "ymin_plot, ymax_plot = plt.ylim()\n",
    "xmin_plot, xmax_plot = plt.xlim()\n",
    "plt.loglog([T_c, T_c], [ymin_plot, ymax_plot], color='r', linestyle='--')\n",
    "plt.show()"
   ]
  },
  {
   "cell_type": "code",
   "execution_count": null,
   "metadata": {},
   "outputs": [],
   "source": [
    "plt.plot(xdata-T_c,ydata,'b--')\n",
    "plt.show()"
   ]
  },
  {
   "cell_type": "code",
   "execution_count": null,
   "metadata": {},
   "outputs": [],
   "source": [
    "plt.semilogx(abs(xdata-T_c),ydata,'bx')\n",
    "plt.semilogx(abs(xdata-T_c),ydata,'b--', linewidth = 1)\n",
    "plt.show()"
   ]
  },
  {
   "cell_type": "code",
   "execution_count": null,
   "metadata": {},
   "outputs": [],
   "source": [
    "plt.loglog((xdata-T_c),ydata,'bx')\n",
    "plt.loglog(abs(xdata-T_c),ydata,'b--', linewidth = 1)\n",
    "plt.loglog(abs(xdata-T_c),f(xdata-T_c, 1, 7/4, 2),'r--', linewidth = 1)\n",
    "plt.show()"
   ]
  },
  {
   "cell_type": "code",
   "execution_count": null,
   "metadata": {},
   "outputs": [],
   "source": []
  }
 ],
 "metadata": {
  "kernelspec": {
   "display_name": "Python 3",
   "language": "python",
   "name": "python3"
  },
  "language_info": {
   "codemirror_mode": {
    "name": "ipython",
    "version": 3
   },
   "file_extension": ".py",
   "mimetype": "text/x-python",
   "name": "python",
   "nbconvert_exporter": "python",
   "pygments_lexer": "ipython3",
   "version": "3.6.2"
  }
 },
 "nbformat": 4,
 "nbformat_minor": 2
}
