{
 "cells": [
  {
   "cell_type": "code",
   "execution_count": 22,
   "metadata": {},
   "outputs": [],
   "source": [
    "def fit_function(data_dir, quantity, fit_range, graph_extension):\n",
    "    '''Gives the energy of one single spin site\n",
    "    \n",
    "    Parameters\n",
    "    ----------\n",
    "    data_dir : datafile ~.npz\n",
    "        contains the 'temperature' 'magnetic_field' 'c_v' 'chi' arrays\n",
    "    quantity : Str\n",
    "        string which specifies which physical quantity must be fitted\n",
    "    fit_range: float\n",
    "        range around critical temperature (T_c - fit_range, T_c + fit_range)\n",
    "        which should be evaluated for fit. In case of magnetisation this only\n",
    "        determines the lower boundary\n",
    "    graph_extension : float\n",
    "        defines extra domain to be plotted from xmin and xmax\n",
    "        Plot domain = (xmin - graph_extension, xmax + graph_extension)\n",
    "           \n",
    "    Returns\n",
    "    -------\n",
    "    popt: array\n",
    "        Optimal values for parameters so sum of the squared residuals is minimized\n",
    "    fit_err: sequence\n",
    "        Standard deviation of the optimal values for the parameters\n",
    "    '''\n",
    "    \n",
    "    # Initialisation of plot design\n",
    "    plt.rc('text', usetex=True)\n",
    "    plt.rc('font', family='serif')\n",
    "    plt.rc('font', size=16)\n",
    "    plt.xlabel('$\\mathrm{k_B T/J}$')\n",
    "    \n",
    "    # Loading data and general functions (and generate transition temperature (T_c))\n",
    "    from scipy.optimize import curve_fit\n",
    "    \n",
    "    data = np.load(data_dir)\n",
    "    xdata = data['temperature'].reshape(np.shape(data['temperature'])[0])\n",
    "    ydata = data[quantity][:,0]\n",
    "    y_err = data[quantity][:,1]\n",
    "    T_c = 1/(1/2*np.arcsinh(1)) # This is actually 1/(beta_c*J) but as k_B = J = 1 by choice, this is the same\n",
    "    \n",
    "    \n",
    "    # Processing data\n",
    "    if quantity == 'magnetisation':\n",
    "        indices = np.where((xdata>=fit_range) & (xdata<T_c))\n",
    "        from Tijdelijk import f_magnetisation as f\n",
    "        plt.ylabel('m')\n",
    "    if quantity == 'c_v':\n",
    "        indices = np.where((xdata>=T_c-fit_range) & (xdata<T_c+fit_range))\n",
    "        from Tijdelijk import f_cv as f\n",
    "        plt.ylabel('$\\mathrm{c_v}$')\n",
    "    if quantity == 'chi':\n",
    "        indices = np.where((xdata>=T_c-fit_range) & (xdata<T_c+fit_range))\n",
    "        from Tijdelijk import f_chi as f\n",
    "        plt.ylabel('$\\mathrm{\\chi}$')\n",
    "    \n",
    "    xdata_domain = xdata[indices]\n",
    "    ydata_domain = ydata[indices]\n",
    "    y_err_domain = y_err[indices]\n",
    "    \n",
    "    xmax = xdata_domain[0] + graph_extension\n",
    "    xmin = xdata_domain[np.shape(xdata_domain)[0]-1] - graph_extension\n",
    "    \n",
    "    popt, pcov = curve_fit(f, xdata_domain - T_c, ydata_domain, sigma=y_err_domain)\n",
    "    fit_err = np.sqrt(np.diag(pcov))\n",
    "    \n",
    "    plt.figure()\n",
    "    plt.plot(xdata_domain, f(xdata_domain - T_c, *popt), 'r-')\n",
    "    plt.errorbar(xdata, ydata, yerr=y_err, fmt='x', markersize=6, capsize=4)\n",
    "    plt.show()\n",
    "    \n",
    "    #plt.figure(xdata, ydata)\n",
    "    #pl.loglog\n",
    "    \n",
    "    return popt, fit_err"
   ]
  },
  {
   "cell_type": "code",
   "execution_count": 23,
   "metadata": {},
   "outputs": [
    {
     "data": {
      "image/png": "[encoded data removed]",
      "text/plain": [
       "<matplotlib.figure.Figure at 0x7f360bdd8c50>"
      ]
     },
     "metadata": {},
     "output_type": "display_data"
    },
    {
     "data": {
      "image/png": "[encoded data removed]",
      "text/plain": [
       "<matplotlib.figure.Figure at 0x7f360bf4ffd0>"
      ]
     },
     "metadata": {},
     "output_type": "display_data"
    },
    {
     "name": "stdout",
     "output_type": "stream",
     "text": [
      "[ 0.58696518  0.40840763 -0.44478133] [ 0.30388281  0.14290565  0.29964187]\n",
      "(3,)\n"
     ]
    }
   ],
   "source": [
    "import numpy as np\n",
    "import matplotlib.pyplot as plt\n",
    "\n",
    "#fit_range moet 2 zijn voor magnetisation\n",
    "popt, fit_err = fit_function('./exported_data/saved_data_SW_1000.npz', 'c_v', 2, 0.2)\n",
    "print(popt, fit_err)\n",
    "print(fit_err.shape)"
   ]
  },
  {
   "cell_type": "code",
   "execution_count": null,
   "metadata": {},
   "outputs": [],
   "source": []
  }
 ],
 "metadata": {
  "kernelspec": {
   "display_name": "Python 3",
   "language": "python",
   "name": "python3"
  },
  "language_info": {
   "codemirror_mode": {
    "name": "ipython",
    "version": 3
   },
   "file_extension": ".py",
   "mimetype": "text/x-python",
   "name": "python",
   "nbconvert_exporter": "python",
   "pygments_lexer": "ipython3",
   "version": "3.6.2"
  }
 },
 "nbformat": 4,
 "nbformat_minor": 2
}
