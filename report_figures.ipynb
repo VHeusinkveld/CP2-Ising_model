{
 "cells": [
  {
   "cell_type": "markdown",
   "metadata": {},
   "source": [
    "# Extra report plots"
   ]
  },
  {
   "cell_type": "markdown",
   "metadata": {},
   "source": [
    "## Three data sets, L = 10, 20, 40"
   ]
  },
  {
   "cell_type": "code",
   "execution_count": 503,
   "metadata": {},
   "outputs": [],
   "source": [
    "import numpy as np\n",
    "import matplotlib.pyplot as plt\n",
    "\n",
    "data_dir = './exported_data/'\n",
    "\n",
    "fig_dir = './exported_figs/'\n",
    "identifier = 'triple_'\n",
    "fig_name = fig_dir + identifier\n",
    "\n",
    "data_names = ['c_v', 'magnetisation', 'chi']\n",
    "L_range = [10, 20, 40]\n",
    "T_data = 81\n",
    "\n",
    "y_data = np.zeros((len(L_range), T_data))\n",
    "x_data = np.zeros((len(L_range), T_data))\n",
    "\n",
    "plt.rc('text', usetex=True)\n",
    "plt.rc('font', family='serif')\n",
    "plt.rc('font', size=18)\n",
    "\n",
    "for data_name in data_names:\n",
    "    for i, L in enumerate(L_range):\n",
    "        name = 'saved_data_L' + str(L) +'_SW_2000.npz'\n",
    "        npzfile = np.load(data_dir + name)\n",
    "        y_data[i] = npzfile[data_name][:,0]\n",
    "        x_data[i] = npzfile['temperature'][:,0]\n",
    "\n",
    "    markers = ['+', 'x', '.']\n",
    "    for k, x in enumerate(x_data):\n",
    "        plt.plot(x, y_data[k], markers[k], markersize = 6)\n",
    "        plt.xlabel('$\\mathrm{k_B T/J}$', fontsize=18)\n",
    "    plt.legend(['L = 10', 'L = 20', 'L = 40'])\n",
    "\n",
    "    \n",
    "    if data_name == 'c_v':\n",
    "        plt.ylabel('$\\mathrm{C_v}$', fontsize=18)\n",
    "    if data_name == 'magnetisation':\n",
    "        plt.ylabel('$ m^{2} $', fontsize=18)   \n",
    "    if data_name == 'chi':\n",
    "        plt.ylabel('$\\chi$', fontsize=18)\n",
    "    \n",
    "    plt.tight_layout()\n",
    "    plt.savefig(fig_name + data_name + '.png')\n",
    "    plt.close()"
   ]
  },
  {
   "cell_type": "code",
   "execution_count": 685,
   "metadata": {},
   "outputs": [],
   "source": [
    "import numpy as np\n",
    "import matplotlib.pyplot as plt\n",
    "\n",
    "data_dir = './exported_data/'\n",
    "\n",
    "data_names = ['chi']\n",
    "L_range = [10, 15, 20, 25, 30, 35, 40]\n",
    "T_data = 81\n",
    "\n",
    "y_data = np.zeros((len(L_range), T_data))\n",
    "y_err = np.zeros((len(L_range), T_data))\n",
    "x_data = np.zeros((len(L_range), T_data))\n",
    "x_err = np.zeros((len(L_range), T_data))\n",
    "\n",
    "plt.rc('text', usetex=True)\n",
    "plt.rc('font', family='serif')\n",
    "plt.rc('font', size=18)\n",
    "\n",
    "top_xy = np.zeros((len(L_range), 2))\n",
    "top_xy_err = np.zeros((len(L_range), 2))\n",
    "\n",
    "for data_name in data_names:\n",
    "    for i, L_i in enumerate(L_range):\n",
    "        name = 'saved_data_L' + str(L_i) +'_SW_2000.npz'\n",
    "        npzfile = np.load(data_dir + name)\n",
    "        y_data[i] = npzfile[data_name][:,0]\n",
    "        y_err[i] = npzfile[data_name][:,1]\n",
    "        \n",
    "        j = np.argmax(y_data[i])\n",
    "        top_xy [i, 1]= y_data[i, j]\n",
    "        top_xy_err[i,1] = y_err[i,j]\n",
    "        \n",
    "        x_data[i] = npzfile['temperature'][:,0]\n",
    "        top_xy[i, 0] = x_data[i,j]\n",
    "        \n",
    "        top_xy_err[i,0] = abs(npzfile['temperature'][j + 1,0] - npzfile['temperature'][j,0])/2"
   ]
  },
  {
   "cell_type": "code",
   "execution_count": 662,
   "metadata": {},
   "outputs": [],
   "source": [
    "def f(L, x, c):\n",
    "    return L**(x) + c\n",
    "\n",
    "def fit_funct(f, L, Y, err, bounds):\n",
    "    popt, pcov = curve_fit(f, L, Y, sigma = err, bounds = bounds)\n",
    "    fit_err = np.sqrt(np.diag(pcov))\n",
    "    return popt, fit_err"
   ]
  },
  {
   "cell_type": "code",
   "execution_count": 686,
   "metadata": {},
   "outputs": [
    {
     "data": {
      "text/plain": [
       "(array([-0.18577899,  1.80973906]), array([ 0.03925131,  0.068171  ]))"
      ]
     },
     "execution_count": 686,
     "metadata": {},
     "output_type": "execute_result"
    }
   ],
   "source": [
    "import numpy as np\n",
    "import matplotlib.pyplot as plt\n",
    "from scipy.optimize import curve_fit\n",
    "\n",
    "popt, fit_err = fit_funct(f, L_range, top_xy[:,0], top_xy_err[:,0], (-np.inf, np.inf))\n",
    "popt2, fit_err2 = fit_funct(f, L_range, top_xy[:,1], top_xy_err[:,1], (-np.inf, np.inf))"
   ]
  },
  {
   "cell_type": "code",
   "execution_count": 722,
   "metadata": {},
   "outputs": [
    {
     "name": "stdout",
     "output_type": "stream",
     "text": [
      "z = 0.19 ( 4 )\n"
     ]
    },
    {
     "data": {
      "image/png": "[encoded data removed]",
      "text/plain": [
       "<matplotlib.figure.Figure at 0x7efbdc1618d0>"
      ]
     },
     "metadata": {},
     "output_type": "display_data"
    }
   ],
   "source": [
    "fig_dir = './exported_figs/'\n",
    "identifier = 'triple_fit_'\n",
    "fig_name = fig_dir + identifier\n",
    "markers = ['+', 'x', '.']\n",
    "\n",
    "ii = 0\n",
    "for k, L_i in enumerate(L_range):\n",
    "    if L_i in [10, 20, 40]:\n",
    "        plt.errorbar(x_data[k], y_data[k], yerr=y_err[k], fmt=markers[ii%3], label = 'L = %.f'%L_i , markersize = 6, capsize = 4)\n",
    "        ii += 1\n",
    "\n",
    "plt.xlabel('$\\mathrm{k_B T/J}$', fontsize=18)\n",
    "plt.ylabel('$\\chi$', fontsize=18)\n",
    "\n",
    "L_size = np.linspace(10, 40, 100)\n",
    "x = f(L_size, *popt)\n",
    "x_max = f(L_size, *popt + fit_err)\n",
    "x_min = f(L_size, *popt - fit_err) \n",
    "\n",
    "y = f(L_size, *popt2)\n",
    "y_max = f(L_size, *popt2 + fit_err2)\n",
    "y_min = f(L_size, *popt2 - fit_err2)\n",
    "\n",
    "plt.plot(x, y, 'b-', label = 'Fit')\n",
    "plt.legend()\n",
    "plt.plot(x_max, y_max, 'b--')\n",
    "plt.plot(x_min, y_min, 'b--')\n",
    "plt.tight_layout()\n",
    "print('z =', np.round(-popt[0], 2), '(', int(np.round(100*fit_err[0],0)), ')' )\n",
    "plt.show()\n",
    "#plt.savefig(fig_name + data_name + '.png')\n",
    "#plt.close()"
   ]
  }
 ],
 "metadata": {
  "kernelspec": {
   "display_name": "Python 3",
   "language": "python",
   "name": "python3"
  },
  "language_info": {
   "codemirror_mode": {
    "name": "ipython",
    "version": 3
   },
   "file_extension": ".py",
   "mimetype": "text/x-python",
   "name": "python",
   "nbconvert_exporter": "python",
   "pygments_lexer": "ipython3",
   "version": "3.6.2"
  }
 },
 "nbformat": 4,
 "nbformat_minor": 2
}
