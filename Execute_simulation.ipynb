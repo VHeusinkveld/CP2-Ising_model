{
 "cells": [
  {
   "cell_type": "markdown",
   "metadata": {},
   "source": [
    "# Ising Model (incl. Monte Carlo & SW-algorithm)"
   ]
  },
  {
   "cell_type": "code",
   "execution_count": null,
   "metadata": {},
   "outputs": [],
   "source": [
    "%matplotlib inline\n",
    "import importlib\n",
    "import time as tm\n",
    "from importlib import reload\n",
    "import Ising_simulation\n",
    "reload(Ising_simulation)\n",
    "from Ising_simulation import *\n",
    "\n",
    "# Simulation initialisation\n",
    "sim = SimpleNamespace(MC_steps = 1000,       # Number of monte carlo steps\n",
    "                      L = 20,               # Grid size in 1 dimension\n",
    "                      T = 3,                # Initial temperature\n",
    "                      T_steps = 30,         # Number of temperature steps\n",
    "                      dT = -0.05,           # Temperature increment\n",
    "                      h = 0,                # Initial magnetic field\n",
    "                      dh = 0,               # Magnetic increment\n",
    "                      J = 1,                # Coupling J (Keep at 1)\n",
    "                      kb = 1,               # Boltzman constant (Keep at 1)\n",
    "                      eq_data_points = 900, # Number of equilibrium data points in MC steps\n",
    "                      spin_init = 'up',     # Initial spin grid (up, down or random)\n",
    "                      algorithm = 'SW',     # SW (Swendesen Wang) or SF (Spin Flip)\n",
    "                      cor_cal = True,       # Determine if correlation time needs to be calculated\n",
    "                      bs_trials = 10\n",
    "                      )\n",
    "\n",
    "sim.spin_site_total_number = sim.L**2       # Total number of spin sites\n",
    "sim.MCS = sim.L**2                          # Montecarlo step size\n",
    "sim.time_steps = sim.MCS * sim.MC_steps     # Montecarlo time to regular time steps\n",
    "\n",
    "# Simulation results\n",
    "results, grid_coordinates = IM_sim(sim)"
   ]
  },
  {
   "cell_type": "code",
   "execution_count": null,
   "metadata": {},
   "outputs": [],
   "source": [
    "save_fig = True # Set to False to not overwrite images\n",
    "plot_func(sim, results, save_fig)"
   ]
  },
  {
   "cell_type": "code",
   "execution_count": null,
   "metadata": {},
   "outputs": [],
   "source": [
    "#WIP\n",
    "results.c_v[:, 0] + results.c_v[:, 1]\n",
    "length = len(results.c_v[:, 0] + results.c_v[:, 1])\n",
    "plt.plot(results.temperature, results.c_v[:, 0] + results.c_v[:, 1], 'b_')\n",
    "plt.plot(results.temperature, results.c_v[:, 0] , 'x')\n",
    "plt.plot(results.temperature, results.c_v[:, 0] - results.c_v[:, 1], 'b_')\n",
    "figure_directory = './exported_figs/'\n",
    "plt.savefig(figure_directory + '_cv_1000SW.png')"
   ]
  },
  {
   "cell_type": "code",
   "execution_count": 335,
   "metadata": {},
   "outputs": [
    {
     "data": {
      "image/png": "[encoded data removed]",
      "text/plain": [
       "<matplotlib.figure.Figure at 0x7f5f7b576160>"
      ]
     },
     "metadata": {},
     "output_type": "display_data"
    }
   ],
   "source": [
    "### Wip, plot of last correlation\n",
    "data = results.cor_fun_chi\n",
    "length = len(data)\n",
    "plt.plot(range(length), data)\n",
    "plt.show()\n"
   ]
  },
  {
   "cell_type": "code",
   "execution_count": null,
   "metadata": {},
   "outputs": [],
   "source": [
    "def plot_func(self, results, save):\n",
    "    figure_directory = './exported_figs/'\n",
    "    \n",
    "    plt.rc('text', usetex=True)\n",
    "    plt.rc('font', family='serif')\n",
    "    plt.rc('font', size=16)\n",
    "\n",
    "    plt.plot(results.temperature, results.c_v, 'o')\n",
    "    plt.xlabel('$\\mathrm{k_b T/J}$', fontsize=18)\n",
    "    plt.ylabel('$\\mathrm{C_v}$', fontsize=18)\n",
    "    plt.tight_layout()\n",
    "    if save:\n",
    "        plt.savefig(figure_directory + self.algorithm + '_cv.png')\n",
    "    plt.close()\n",
    "\n",
    "    plt.plot(results.temperature, results.chi, 'o')\n",
    "    plt.xlabel('$\\mathrm{k_b T/J}$', fontsize=18)\n",
    "    plt.ylabel('$\\chi$', fontsize=18)\n",
    "    plt.tight_layout()\n",
    "    if save:\n",
    "        plt.savefig(figure_directory + self.algorithm + '_chi.png')\n",
    "    plt.close()\n",
    "\n",
    "    plt.plot(results.temperature, results.magnitization, 'o')\n",
    "    plt.xlabel('$\\mathrm{k_b T/J}$', fontsize=18)\n",
    "    plt.ylabel('m', fontsize=18)    \n",
    "    plt.tight_layout()\n",
    "    if save:\n",
    "        plt.savefig(figure_directory + self.algorithm + '_m.png')\n",
    "    plt.close()\n"
   ]
  }
 ],
 "metadata": {
  "kernelspec": {
   "display_name": "Python 3",
   "language": "python",
   "name": "python3"
  },
  "language_info": {
   "codemirror_mode": {
    "name": "ipython",
    "version": 3
   },
   "file_extension": ".py",
   "mimetype": "text/x-python",
   "name": "python",
   "nbconvert_exporter": "python",
   "pygments_lexer": "ipython3",
   "version": "3.6.2"
  }
 },
 "nbformat": 4,
 "nbformat_minor": 2
}
