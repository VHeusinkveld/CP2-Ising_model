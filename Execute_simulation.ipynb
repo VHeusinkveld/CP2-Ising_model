{
 "cells": [
  {
   "cell_type": "markdown",
   "metadata": {},
   "source": [
    "# Ising Model (incl. Monte Carlo & SW-algorithm)"
   ]
  },
  {
   "cell_type": "code",
   "execution_count": 3,
   "metadata": {},
   "outputs": [],
   "source": [
    "%matplotlib inline\n",
    "import importlib\n",
    "import time as tm\n",
    "from Ising_simulation import *\n",
    "\n",
    "\n",
    "# Simulation initialisation\n",
    "sim = SimpleNamespace(MC_steps = 30,\n",
    "                      L = 20,\n",
    "                      T = 0.5,\n",
    "                      T_steps = 20,\n",
    "                      dT = -0.005,\n",
    "                      h = 0,\n",
    "                      dh = 0,\n",
    "                      J = 1,\n",
    "                      kb = 1,\n",
    "                      eq_data_points= 20,\n",
    "                      spin_init = 'random',\n",
    "                      algorithm = 'SW' # SW (Swendesen Wang) or SF (Spin Flip)\n",
    "                      )\n",
    "\n",
    "sim.spin_site_total_number = sim.L**2\n",
    "sim.MCS = sim.L**2\n",
    "sim.time_steps = sim.MCS * sim.MC_steps\n",
    "sim.beta = 1/(sim.kb*sim.T)\n",
    "\n",
    "# Simulation results\n",
    "results, grid_coordinates, data_set = IM_sim(sim)\n"
   ]
  },
  {
   "cell_type": "code",
   "execution_count": 4,
   "metadata": {},
   "outputs": [
    {
     "data": {
      "image/png": "[encoded data removed]",
      "text/plain": [
       "<matplotlib.figure.Figure at 0x7fd9f135fc18>"
      ]
     },
     "metadata": {},
     "output_type": "display_data"
    },
    {
     "data": {
      "image/png": "[encoded data removed]",
      "text/plain": [
       "<matplotlib.figure.Figure at 0x7fd9f1303f60>"
      ]
     },
     "metadata": {},
     "output_type": "display_data"
    }
   ],
   "source": [
    "plt.plot(results.temperature, results.magnitization)\n",
    "plt.show()\n",
    "\n",
    "plt.plot(range(len(data_set.magnitization_i)), data_set.magnitization_i)\n",
    "plt.show()\n"
   ]
  }
 ],
 "metadata": {
  "kernelspec": {
   "display_name": "Python 3",
   "language": "python",
   "name": "python3"
  },
  "language_info": {
   "codemirror_mode": {
    "name": "ipython",
    "version": 3
   },
   "file_extension": ".py",
   "mimetype": "text/x-python",
   "name": "python",
   "nbconvert_exporter": "python",
   "pygments_lexer": "ipython3",
   "version": "3.6.2"
  }
 },
 "nbformat": 4,
 "nbformat_minor": 2
}
