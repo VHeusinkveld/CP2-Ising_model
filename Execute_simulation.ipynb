{
 "cells": [
  {
   "cell_type": "markdown",
   "metadata": {},
   "source": [
    "# Ising Model (incl. Monte Carlo & SW-algorithm)"
   ]
  },
  {
   "cell_type": "markdown",
   "metadata": {},
   "source": [
    "## Simulation setup"
   ]
  },
  {
   "cell_type": "code",
   "execution_count": 7,
   "metadata": {},
   "outputs": [],
   "source": [
    "%matplotlib inline\n",
    "import time as tm\n",
    "from types import SimpleNamespace\n",
    "from Ising_simulation import *\n",
    "\n",
    "runs = 1\n",
    "corr_data = np.zeros((runs, 81), dtype = float)\n",
    "\n",
    "for i in range(runs):\n",
    "    start_time = tm.time()\n",
    "\n",
    "    # Simulation initialisation\n",
    "    sim = SimpleNamespace(MC_steps = 2100,      # Number of monte carlo steps\n",
    "                          eq_data_points = 2000,# Number of equilibrium data points in MC steps\n",
    "                          L = 20,               # Grid size in 1 dimension\n",
    "                          T = 3.5,             # Initial temperature\n",
    "                          T_steps = 81,        # Number of temperature steps\n",
    "                          dT = -0.025,          # Temperature increment\n",
    "                          h = 0,                # Initial magnetic field\n",
    "                          dh = 0,               # Magnetic increment\n",
    "                          J = 1,                # Coupling J (Keep at 1)\n",
    "                          kb = 1,               # Boltzman constant (Keep at 1)\n",
    "                          spin_init = 'up',     # Initial spin grid (up, down or random)\n",
    "                          algorithm = 'SW',     # SW (Swendesen Wang) or SF (Spin Flip)\n",
    "                          bs_trials = 1000,     # Number of boostrap trials, between 500-2000 suffieces\n",
    "                          )\n",
    "\n",
    "    sim.spin_site_total_number = sim.L**2       # Total number of spin sites\n",
    "    sim.MCS = sim.L**2                          # Montecarlo step size\n",
    "    sim.time_steps = sim.MCS * sim.MC_steps     # Montecarlo time to regular time steps\n",
    "\n",
    "    # Simulation results\n",
    "    results = IM_sim(sim)\n",
    "\n",
    "    end_time = tm.time()\n",
    "    total_time = end_time - start_time\n",
    "    results.sim_time = total_time\n",
    "    \n",
    "    corr_data[i] = results.int_cor_time[:,0]\n"
   ]
  },
  {
   "cell_type": "code",
   "execution_count": 43,
   "metadata": {},
   "outputs": [
    {
     "data": {
      "image/png": "[encoded data removed]",
      "text/plain": [
       "<matplotlib.figure.Figure at 0x7f5db40e7da0>"
      ]
     },
     "metadata": {},
     "output_type": "display_data"
    }
   ],
   "source": [
    "plt.errorbar(results.temperature, np.mean(corr_data,axis= 0), yerr = np.std(corr_data, axis = 0), fmt = 'x', markersize = 6, capsize = 4)\n",
    "plt.show()"
   ]
  },
  {
   "cell_type": "markdown",
   "metadata": {},
   "source": [
    "## Data processing"
   ]
  },
  {
   "cell_type": "code",
   "execution_count": 8,
   "metadata": {},
   "outputs": [
    {
     "name": "stdout",
     "output_type": "stream",
     "text": [
      "Data is saved to: ./exported_data/\n",
      "Figures are saved to: ./exported_figs/\n"
     ]
    }
   ],
   "source": [
    "from importlib import reload\n",
    "import data_processing\n",
    "reload(data_processing)\n",
    "from data_processing import *\n",
    "\n",
    "identifier = 'L20'\n",
    "data_dir = './exported_data/'        # Directory where data should be stored \n",
    "fig_dir = './exported_figs/'         # Directory where figures should be saved\n",
    "save_fig = True                      # Should figure be saved?\n",
    "\n",
    "save_data(sim, results, data_dir, identifier)\n",
    "plot_func(sim, results, fig_dir, identifier, save_fig)\n",
    "visualize_islands(sim, results, fig_dir, identifier, save_fig)\n",
    "grid_plot(sim, results, fig_dir, identifier, save_fig)"
   ]
  }
 ],
 "metadata": {
  "kernelspec": {
   "display_name": "Python 3",
   "language": "python",
   "name": "python3"
  },
  "language_info": {
   "codemirror_mode": {
    "name": "ipython",
    "version": 3
   },
   "file_extension": ".py",
   "mimetype": "text/x-python",
   "name": "python",
   "nbconvert_exporter": "python",
   "pygments_lexer": "ipython3",
   "version": "3.6.2"
  }
 },
 "nbformat": 4,
 "nbformat_minor": 2
}
