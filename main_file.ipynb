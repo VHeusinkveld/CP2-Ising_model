{
 "cells": [
  {
   "cell_type": "code",
   "execution_count": null,
   "metadata": {},
   "outputs": [],
   "source": [
    "# Define geometry\n",
    "## 2D, L^2\n",
    "\n",
    "# Initial conditions\n",
    "## All spin up or all down or random\n",
    "\n",
    "# Determine initial energy\n",
    "## Depends on up down or random\n",
    "\n",
    "# Choose spin at random \n",
    "## Check if the energy gain is positive or negative\n",
    "### Depending on losing or gaining directly accept or accept with a certain probability\n",
    "\n",
    "# If flipped, adapt the initial energy. \n"
   ]
  }
 ],
 "metadata": {
  "kernelspec": {
   "display_name": "Python 3",
   "language": "python",
   "name": "python3"
  },
  "language_info": {
   "codemirror_mode": {
    "name": "ipython",
    "version": 3
   },
   "file_extension": ".py",
   "mimetype": "text/x-python",
   "name": "python",
   "nbconvert_exporter": "python",
   "pygments_lexer": "ipython3",
   "version": "3.6.2"
  }
 },
 "nbformat": 4,
 "nbformat_minor": 2
}
