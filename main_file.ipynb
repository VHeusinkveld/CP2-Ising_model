{
 "cells": [
  {
   "cell_type": "code",
   "execution_count": 243,
   "metadata": {},
   "outputs": [
    {
     "data": {
      "image/png": "[encoded data removed]",
      "text/plain": [
       "<matplotlib.figure.Figure at 0x7fcf442cfb00>"
      ]
     },
     "metadata": {},
     "output_type": "display_data"
    },
    {
     "name": "stdout",
     "output_type": "stream",
     "text": [
      "3600.0\n"
     ]
    }
   ],
   "source": [
    "import numpy as np\n",
    "import matplotlib.pyplot as plt\n",
    "\n",
    "# Define geometry\n",
    "## 2D, L^2\n",
    "\n",
    "global L, MCS, J, spin_init\n",
    "L = 30\n",
    "MCS = L**2\n",
    "J = 1\n",
    "spin_init = 'up'\n",
    " \n",
    "grid_x = range(L)\n",
    "grid_y = range(L)\n",
    "grid_coordinates_x, grid_coordinates_y = np.meshgrid(grid_x, grid_y) \n",
    "grid_coordinates_x = np.reshape(grid_coordinates_x,(1,-1))\n",
    "grid_coordinates_y = np.reshape(grid_coordinates_y,(1,-1))\n",
    "\n",
    "grid_spins = assign_spin()\n",
    "spin_plot = grid_plot(grid_coordinates_x, grid_coordinates_y, grid_spins)\n",
    "plt.show(spin_plot)\n",
    "\n",
    "\n",
    "spin_site_numbers = range(MCS)\n",
    "\n",
    "system_energy = 0\n",
    "for spin_site_number in spin_site_numbers:\n",
    "    spin_site_x = grid_coordinates_x[0][spin_site_number]\n",
    "    spin_site_y = grid_coordinates_y[0][spin_site_number]\n",
    "    system_energy += spin_site_energy(spin_site_x, spin_site_y)\n",
    "print(system_energy)\n",
    "\n",
    "# Initial conditions\n",
    "## All spin up or all down or random\n",
    "\n",
    "# Determine initial energy\n",
    "## Depends on up down or random\n",
    "\n",
    "# Choose spin at random \n",
    "## Check if the energy gain is positive or negative\n",
    "### Depending on losing or gaining directly accept or accept with a certain probability\n",
    "\n",
    "# If flipped, adapt the initial energy. \n",
    "\n",
    "# MC integration to determine quantities \n"
   ]
  },
  {
   "cell_type": "code",
   "execution_count": 234,
   "metadata": {},
   "outputs": [],
   "source": [
    "def grid_plot(x, y, S):\n",
    "    import matplotlib.cm as cm\n",
    "    image = plt.imshow(S, extent=(x.min(), x.max(), y.min(),y.max()), interpolation='nearest', cmap=cm.gray)\n",
    "    plt.clim(-1,1)\n",
    "    return image\n",
    "\n",
    "\n",
    "def assign_spin():\n",
    "    grid_spins = np.random.rand(L,L)\n",
    "    if spin_init == 'random':\n",
    "        grid_spins[grid_spins >=0.5] = 1\n",
    "        grid_spins[grid_spins < 0.5] = -1\n",
    "    elif spin_init == 'up':\n",
    "        grid_spins[grid_spins < 1] = 1\n",
    "    elif spin_init == 'down':\n",
    "        grid_spins[grid_spins < 1] = -1\n",
    "    return grid_spins\n",
    "\n",
    "\n",
    "def spin_site_energy(spin_site_x, spin_site_y):\n",
    "    spin_site_energy = 0\n",
    "    \n",
    "    spin_neigbour_x = np.array([spin_site_x+1, spin_site_x-1, spin_site_x, spin_site_x])%(L-1)\n",
    "    spin_neigbour_y = np.array([spin_site_y, spin_site_y, spin_site_y+1, spin_site_y-1])%(L-1)\n",
    "    for i in range(np.size(spin_neigbour_x)):\n",
    "        spin_value_center = grid_spins[spin_site_x, spin_site_y]\n",
    "        spin_value_neighbour = grid_spins[spin_neigbour_x[i], spin_neigbour_y[i]]\n",
    "\n",
    "        spin_site_energy += J*spin_value_center*spin_value_neighbour\n",
    "    return spin_site_energy "
   ]
  },
  {
   "cell_type": "code",
   "execution_count": null,
   "metadata": {},
   "outputs": [],
   "source": []
  }
 ],
 "metadata": {
  "kernelspec": {
   "display_name": "Python 3",
   "language": "python",
   "name": "python3"
  },
  "language_info": {
   "codemirror_mode": {
    "name": "ipython",
    "version": 3
   },
   "file_extension": ".py",
   "mimetype": "text/x-python",
   "name": "python",
   "nbconvert_exporter": "python",
   "pygments_lexer": "ipython3",
   "version": "3.6.2"
  }
 },
 "nbformat": 4,
 "nbformat_minor": 2
}
