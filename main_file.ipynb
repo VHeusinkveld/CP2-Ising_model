{
 "cells": [
  {
   "cell_type": "code",
   "execution_count": 125,
   "metadata": {},
   "outputs": [
    {
     "name": "stdout",
     "output_type": "stream",
     "text": [
      "8.0\n"
     ]
    },
    {
     "data": {
      "image/png": "[encoded data removed]",
      "text/plain": [
       "<matplotlib.figure.Figure at 0x7f022e82fba8>"
      ]
     },
     "metadata": {},
     "output_type": "display_data"
    },
    {
     "data": {
      "image/png": "[encoded data removed]",
      "text/plain": [
       "<matplotlib.figure.Figure at 0x7f022e82fa58>"
      ]
     },
     "metadata": {},
     "output_type": "display_data"
    }
   ],
   "source": [
    "import numpy as np\n",
    "import numpy.random as rnd\n",
    "import matplotlib.pyplot as plt\n",
    "import copy as cp\n",
    "\n",
    "global L, T, kb, MCS, J\n",
    "\n",
    "spin_init, E_system, spin_site_numbers, grid_coordinates_x, grid_coordinates_y, grid_spins\n",
    "\n",
    "L = 30\n",
    "T = 1\n",
    "MCS = L**2\n",
    "J = 1\n",
    "kb = 1\n",
    "spin_init = 'random'\n",
    " \n",
    "grid_x, grid_y = [range(L), range(L)]\n",
    "grid_coordinates_x, grid_coordinates_y = np.meshgrid(grid_x, grid_y) \n",
    "grid_coordinates_x, grid_coordinates_y = [np.reshape(grid_coordinates_x,(1,-1)), np.reshape(grid_coordinates_y,(1,-1))]\n",
    "spin_site_numbers = range(MCS)\n",
    "\n",
    "grid_spins = assign_spin()\n",
    "\n",
    "spin_plot = grid_plot(grid_coordinates_x, grid_coordinates_y, grid_spins)\n",
    "plt.xlabel('y')\n",
    "plt.ylabel('x')\n",
    "\n",
    "E_system = system_energy(grid_coordinates_x, grid_coordinates_y, grid_spins)\n",
    "print(E_system)\n",
    "fig = plt.figure()\n",
    "\n",
    "# This plotting needs improvement!!\n",
    "from IPython.display import clear_output\n",
    "for t in range(1):\n",
    "    grid_spins, E_system = spin_flip(grid_coordinates_x, grid_coordinates_y, grid_spins, E_system)\n",
    "    spin_plot = grid_plot(grid_coordinates_x, grid_coordinates_y, grid_spins)\n",
    "    plt.show()\n",
    "    plt.pause(1)\n",
    "\n",
    "\n",
    "\n",
    "# Choose spin at random \n",
    "## Check if the energy gain is positive or negative\n",
    "### Depending on losing or gaining directly accept or accept with a certain probability\n",
    "\n",
    "# If flipped, adapt the initial energy. \n",
    "\n",
    "# MC integration to determine quantities \n"
   ]
  },
  {
   "cell_type": "code",
   "execution_count": 123,
   "metadata": {},
   "outputs": [],
   "source": [
    "def grid_plot(x, y, S):\n",
    "    import matplotlib.cm as cm\n",
    "    image = plt.imshow(S, extent=(x.min(), x.max(), y.max(), y.min()), interpolation='nearest', cmap=cm.plasma)\n",
    "    plt.clim(-1,1)\n",
    "    return image\n",
    "\n",
    "def assign_spin():\n",
    "    grid_spins = rnd.rand(L,L)\n",
    "    if spin_init == 'random':\n",
    "        grid_spins[grid_spins >=0.5] = 1\n",
    "        grid_spins[grid_spins < 0.5] = -1\n",
    "        \n",
    "    elif spin_init == 'up':\n",
    "        grid_spins[grid_spins < 1] = 1\n",
    "        \n",
    "    elif spin_init == 'down':\n",
    "        grid_spins[grid_spins < 1] = -1\n",
    "        \n",
    "    return grid_spins\n",
    "\n",
    "def spin_site_energy(spin_site_x, spin_site_y, grid_spins):\n",
    "    spin_site_energy = 0\n",
    "    \n",
    "    spin_neigbour_x = (spin_site_x + np.array([1, -1, 0, 0]))%(L)\n",
    "    spin_neigbour_y = (spin_site_y + np.array([0, 0, 1, -1]))%(L)\n",
    "    \n",
    "    for i in range(np.size(spin_neigbour_x)):\n",
    "        spin_value_center = grid_spins[spin_site_x, spin_site_y]\n",
    "        spin_value_neighbour = grid_spins[spin_neigbour_x[i], spin_neigbour_y[i]]\n",
    "\n",
    "        spin_site_energy += J*spin_value_center*spin_value_neighbour\n",
    "    return spin_site_energy \n",
    "\n",
    "def system_energy(grid_coordinates_x, grid_coordinates_y, grid_spins):\n",
    "    sys_energy = 0\n",
    "    for spin_site_number in spin_site_numbers:\n",
    "        spin_site_x = grid_coordinates_x[0][spin_site_number]\n",
    "        spin_site_y = grid_coordinates_y[0][spin_site_number]\n",
    "        sys_energy += spin_site_energy(spin_site_x, spin_site_y, grid_spins)\n",
    "    sys_energy = sys_energy/2 # Double counting of the links\n",
    "    return sys_energy\n",
    "\n",
    "\n",
    "def spin_flip(grid_coordinates_x, grid_coordinates_y, grid_spins, E_system):\n",
    "    spin_site_number = rnd.randint(0, MCS)\n",
    "    spin_site_x = grid_coordinates_x[0][spin_site_number]\n",
    "    spin_site_y = grid_coordinates_y[0][spin_site_number]\n",
    "       \n",
    "    spin_site_energy_pre_flip = spin_site_energy(spin_site_x, spin_site_y, grid_spins)\n",
    "    grid_spins[spin_site_x, spin_site_y] = -1 * grid_spins[spin_site_x, spin_site_y]\n",
    "    spin_site_energy_post_flip = spin_site_energy(spin_site_x, spin_site_y, grid_spins)    \n",
    "    spin_flip_energy_delta = spin_site_energy_post_flip - spin_site_energy_pre_flip\n",
    "        \n",
    "    if spin_flip_energy_delta < 0:\n",
    "        E_system = E_system + 2 * spin_flip_energy_delta\n",
    "        \n",
    "    elif spin_flip_energy_delta >= 0:\n",
    "        boltzman_chance = np.exp(-spin_flip_energy_delta/(kb*T))\n",
    "        boltzmon_pick = rnd.random()\n",
    "        \n",
    "        if  boltzman_chance > boltzmon_pick:\n",
    "            E_system = E_system + 2 * spin_flip_energy_delta\n",
    "            \n",
    "        elif boltzman_chance <= boltzmon_pick:  \n",
    "            grid_spins[spin_site_x, spin_site_y] = -1 * grid_spins[spin_site_x, spin_site_y]\n",
    "            \n",
    "    return grid_spins, E_system"
   ]
  },
  {
   "cell_type": "code",
   "execution_count": null,
   "metadata": {},
   "outputs": [],
   "source": []
  }
 ],
 "metadata": {
  "kernelspec": {
   "display_name": "Python 3",
   "language": "python",
   "name": "python3"
  },
  "language_info": {
   "codemirror_mode": {
    "name": "ipython",
    "version": 3
   },
   "file_extension": ".py",
   "mimetype": "text/x-python",
   "name": "python",
   "nbconvert_exporter": "python",
   "pygments_lexer": "ipython3",
   "version": "3.6.2"
  }
 },
 "nbformat": 4,
 "nbformat_minor": 2
}
