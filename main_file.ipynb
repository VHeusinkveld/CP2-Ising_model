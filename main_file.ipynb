{
 "cells": [
  {
   "cell_type": "code",
   "execution_count": 101,
   "metadata": {},
   "outputs": [
    {
     "data": {
      "image/png": "[encoded data removed]",
      "text/plain": [
       "<matplotlib.figure.Figure at 0x7fcf4435e2e8>"
      ]
     },
     "metadata": {},
     "output_type": "display_data"
    }
   ],
   "source": [
    "import numpy as np\n",
    "import matplotlib.pyplot as plt\n",
    "\n",
    "# Define geometry\n",
    "## 2D, L^2\n",
    "\n",
    "L = 100\n",
    "MCS = L**2\n",
    "\n",
    "grid_x = range(L)\n",
    "grid_y = range(L)\n",
    "grid_coordinates_x, grid_coordinates_y = np.meshgrid(grid_x, grid_y) \n",
    "grid_spins = np.random.rand(L,L)\n",
    "\n",
    "grid_spins[grid_spins>=0.5] = 1\n",
    "grid_spins[grid_spins<0.5] = -1\n",
    "\n",
    "def grid_plot(x, y, z):\n",
    "    import matplotlib.cm as cm\n",
    "    image = plt.imshow(z, extent=(x.min(), x.max(), y.min(),y.max()), interpolation='nearest', cmap=cm.gray)\n",
    "    return image\n",
    "    \n",
    "spin_plot = grid_plot(grid_coordinates_x, grid_coordinates_y, grid_spins)\n",
    "plt.show(spin_plot)\n",
    "\n",
    "\n",
    "\n",
    "# Initial conditions\n",
    "## All spin up or all down or random\n",
    "\n",
    "# Determine initial energy\n",
    "## Depends on up down or random\n",
    "\n",
    "# Choose spin at random \n",
    "## Check if the energy gain is positive or negative\n",
    "### Depending on losing or gaining directly accept or accept with a certain probability\n",
    "\n",
    "# If flipped, adapt the initial energy. \n"
   ]
  },
  {
   "cell_type": "code",
   "execution_count": null,
   "metadata": {},
   "outputs": [],
   "source": []
  }
 ],
 "metadata": {
  "kernelspec": {
   "display_name": "Python 3",
   "language": "python",
   "name": "python3"
  },
  "language_info": {
   "codemirror_mode": {
    "name": "ipython",
    "version": 3
   },
   "file_extension": ".py",
   "mimetype": "text/x-python",
   "name": "python",
   "nbconvert_exporter": "python",
   "pygments_lexer": "ipython3",
   "version": "3.6.2"
  }
 },
 "nbformat": 4,
 "nbformat_minor": 2
}
